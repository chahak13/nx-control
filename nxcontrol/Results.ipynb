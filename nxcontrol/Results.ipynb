{
 "cells": [
  {
   "cell_type": "markdown",
   "metadata": {},
   "source": [
    "# Dataset Information"
   ]
  },
  {
   "cell_type": "code",
   "execution_count": 6,
   "metadata": {},
   "outputs": [],
   "source": [
    "import pandas as pd\n",
    "import networkx as nx\n",
    "import numpy as np"
   ]
  },
  {
   "cell_type": "code",
   "execution_count": 33,
   "metadata": {},
   "outputs": [],
   "source": [
    "networks = {\n",
    "            'TRN-Yeast-2': 'experiment_yeast.txt',\n",
    "            'p2p-1':'experiment_p2p-1.txt',\n",
    "            'p2p-2':'experiment_p2p-2.txt',\n",
    "            'p2p-3':'experiment_p2p-3.txt',\n",
    "            'consulting-1':'experiment_consulting-1.txt',\n",
    "            'manufacturing-1':'experiment_manufacturing-1.txt',\n",
    "            'C_ele':'experiment_C.ele_neural.txt',\n",
    "            's838':'experiment_s838_st.txt',\n",
    "            's420':'experiment_s420_st.txt',\n",
    "            's208':'experiment_s208_st.txt',\n",
    "            'coli':'experiment_coli.txt',\n",
    "            'wikivote':'experiment_wikivote.txt'\n",
    "}"
   ]
  },
  {
   "cell_type": "code",
   "execution_count": 3,
   "metadata": {},
   "outputs": [],
   "source": [
    "name = []\n",
    "N = []\n",
    "L = []\n",
    "\n",
    "for network_name, network_file in networks.items():\n",
    "    g = nx.relabel_nodes(nx.read_edgelist('./graphs/{}'.format(network_file), create_using=nx.DiGraph), int)\n",
    "    name.append(network_name)\n",
    "    N.append(len(g.nodes))\n",
    "    L.append(len(g.edges))"
   ]
  },
  {
   "cell_type": "code",
   "execution_count": 4,
   "metadata": {},
   "outputs": [
    {
     "data": {
      "text/html": [
       "<div>\n",
       "<style scoped>\n",
       "    .dataframe tbody tr th:only-of-type {\n",
       "        vertical-align: middle;\n",
       "    }\n",
       "\n",
       "    .dataframe tbody tr th {\n",
       "        vertical-align: top;\n",
       "    }\n",
       "\n",
       "    .dataframe thead th {\n",
       "        text-align: right;\n",
       "    }\n",
       "</style>\n",
       "<table border=\"1\" class=\"dataframe\">\n",
       "  <thead>\n",
       "    <tr style=\"text-align: right;\">\n",
       "      <th></th>\n",
       "      <th>Name</th>\n",
       "      <th>N</th>\n",
       "      <th>L</th>\n",
       "    </tr>\n",
       "  </thead>\n",
       "  <tbody>\n",
       "    <tr>\n",
       "      <th>0</th>\n",
       "      <td>TRN-Yeast-2</td>\n",
       "      <td>688</td>\n",
       "      <td>1079</td>\n",
       "    </tr>\n",
       "    <tr>\n",
       "      <th>1</th>\n",
       "      <td>p2p-1</td>\n",
       "      <td>10876</td>\n",
       "      <td>39994</td>\n",
       "    </tr>\n",
       "    <tr>\n",
       "      <th>2</th>\n",
       "      <td>p2p-2</td>\n",
       "      <td>8846</td>\n",
       "      <td>31839</td>\n",
       "    </tr>\n",
       "    <tr>\n",
       "      <th>3</th>\n",
       "      <td>p2p-3</td>\n",
       "      <td>8717</td>\n",
       "      <td>31525</td>\n",
       "    </tr>\n",
       "    <tr>\n",
       "      <th>4</th>\n",
       "      <td>consulting-1</td>\n",
       "      <td>46</td>\n",
       "      <td>879</td>\n",
       "    </tr>\n",
       "    <tr>\n",
       "      <th>5</th>\n",
       "      <td>manufacturing-1</td>\n",
       "      <td>77</td>\n",
       "      <td>2228</td>\n",
       "    </tr>\n",
       "    <tr>\n",
       "      <th>6</th>\n",
       "      <td>C_ele</td>\n",
       "      <td>297</td>\n",
       "      <td>2345</td>\n",
       "    </tr>\n",
       "    <tr>\n",
       "      <th>7</th>\n",
       "      <td>s838</td>\n",
       "      <td>512</td>\n",
       "      <td>819</td>\n",
       "    </tr>\n",
       "    <tr>\n",
       "      <th>8</th>\n",
       "      <td>s420</td>\n",
       "      <td>252</td>\n",
       "      <td>399</td>\n",
       "    </tr>\n",
       "    <tr>\n",
       "      <th>9</th>\n",
       "      <td>s208</td>\n",
       "      <td>122</td>\n",
       "      <td>189</td>\n",
       "    </tr>\n",
       "    <tr>\n",
       "      <th>10</th>\n",
       "      <td>coli</td>\n",
       "      <td>424</td>\n",
       "      <td>577</td>\n",
       "    </tr>\n",
       "    <tr>\n",
       "      <th>11</th>\n",
       "      <td>wikivote</td>\n",
       "      <td>7115</td>\n",
       "      <td>103689</td>\n",
       "    </tr>\n",
       "  </tbody>\n",
       "</table>\n",
       "</div>"
      ],
      "text/plain": [
       "               Name      N       L\n",
       "0       TRN-Yeast-2    688    1079\n",
       "1             p2p-1  10876   39994\n",
       "2             p2p-2   8846   31839\n",
       "3             p2p-3   8717   31525\n",
       "4      consulting-1     46     879\n",
       "5   manufacturing-1     77    2228\n",
       "6             C_ele    297    2345\n",
       "7              s838    512     819\n",
       "8              s420    252     399\n",
       "9              s208    122     189\n",
       "10             coli    424     577\n",
       "11         wikivote   7115  103689"
      ]
     },
     "execution_count": 4,
     "metadata": {},
     "output_type": "execute_result"
    }
   ],
   "source": [
    "data = pd.DataFrame({'Name':name, 'N':N, 'L':L}, columns=['Name', 'N', 'L'])\n",
    "data"
   ]
  },
  {
   "cell_type": "markdown",
   "metadata": {},
   "source": [
    "# Calculating Driver Nodes on Real Networks"
   ]
  },
  {
   "cell_type": "code",
   "execution_count": 5,
   "metadata": {},
   "outputs": [],
   "source": [
    "from algorithms import maximum_matching_driver_nodes\n",
    "import time\n",
    "\n",
    "def test_maximum_matching_fraction(g):\n",
    "    start_time = time.process_time()\n",
    "    d_nodes = maximum_matching_driver_nodes(g)\n",
    "    end_time = time.process_time()\n",
    "#     print(\"Code time: {}\".format(end_time-start_time))\n",
    "#     return end_time-start_time\n",
    "    return len(d_nodes)/len(g.nodes)"
   ]
  },
  {
   "cell_type": "code",
   "execution_count": 6,
   "metadata": {},
   "outputs": [
    {
     "name": "stdout",
     "output_type": "stream",
     "text": [
      "TRN-Yeast-2\n",
      "p2p-1\n",
      "p2p-2\n",
      "p2p-3\n",
      "consulting-1\n",
      "manufacturing-1\n",
      "C_ele\n",
      "s838\n",
      "s420\n",
      "s208\n",
      "coli\n",
      "wikivote\n"
     ]
    }
   ],
   "source": [
    "import numpy as np\n",
    "\n",
    "fraction_driver_nodes = []\n",
    "for i, (network_name, network_file) in enumerate(networks.items()):\n",
    "    print(data.loc[i, 'Name'])\n",
    "    g = nx.relabel_nodes(nx.read_edgelist('./graphs/{}'.format(network_file), create_using=nx.DiGraph), int)\n",
    "    fraction_driver_nodes.append(np.round(test_maximum_matching_fraction(g), 3))"
   ]
  },
  {
   "cell_type": "code",
   "execution_count": 7,
   "metadata": {},
   "outputs": [],
   "source": [
    "data[r'N_d'] = fraction_driver_nodes"
   ]
  },
  {
   "cell_type": "code",
   "execution_count": 8,
   "metadata": {},
   "outputs": [],
   "source": [
    "# data.to_csv('graph_information.csv')"
   ]
  },
  {
   "cell_type": "code",
   "execution_count": 9,
   "metadata": {},
   "outputs": [
    {
     "data": {
      "text/html": [
       "<div>\n",
       "<style scoped>\n",
       "    .dataframe tbody tr th:only-of-type {\n",
       "        vertical-align: middle;\n",
       "    }\n",
       "\n",
       "    .dataframe tbody tr th {\n",
       "        vertical-align: top;\n",
       "    }\n",
       "\n",
       "    .dataframe thead th {\n",
       "        text-align: right;\n",
       "    }\n",
       "</style>\n",
       "<table border=\"1\" class=\"dataframe\">\n",
       "  <thead>\n",
       "    <tr style=\"text-align: right;\">\n",
       "      <th></th>\n",
       "      <th>Name</th>\n",
       "      <th>N</th>\n",
       "      <th>L</th>\n",
       "      <th>N_d</th>\n",
       "    </tr>\n",
       "  </thead>\n",
       "  <tbody>\n",
       "    <tr>\n",
       "      <th>0</th>\n",
       "      <td>TRN-Yeast-2</td>\n",
       "      <td>688</td>\n",
       "      <td>1079</td>\n",
       "      <td>0.821</td>\n",
       "    </tr>\n",
       "    <tr>\n",
       "      <th>1</th>\n",
       "      <td>p2p-1</td>\n",
       "      <td>10876</td>\n",
       "      <td>39994</td>\n",
       "      <td>0.552</td>\n",
       "    </tr>\n",
       "    <tr>\n",
       "      <th>2</th>\n",
       "      <td>p2p-2</td>\n",
       "      <td>8846</td>\n",
       "      <td>31839</td>\n",
       "      <td>0.578</td>\n",
       "    </tr>\n",
       "    <tr>\n",
       "      <th>3</th>\n",
       "      <td>p2p-3</td>\n",
       "      <td>8717</td>\n",
       "      <td>31525</td>\n",
       "      <td>0.577</td>\n",
       "    </tr>\n",
       "    <tr>\n",
       "      <th>4</th>\n",
       "      <td>consulting-1</td>\n",
       "      <td>46</td>\n",
       "      <td>879</td>\n",
       "      <td>0.043</td>\n",
       "    </tr>\n",
       "    <tr>\n",
       "      <th>5</th>\n",
       "      <td>manufacturing-1</td>\n",
       "      <td>77</td>\n",
       "      <td>2228</td>\n",
       "      <td>0.013</td>\n",
       "    </tr>\n",
       "    <tr>\n",
       "      <th>6</th>\n",
       "      <td>C_ele</td>\n",
       "      <td>297</td>\n",
       "      <td>2345</td>\n",
       "      <td>0.165</td>\n",
       "    </tr>\n",
       "    <tr>\n",
       "      <th>7</th>\n",
       "      <td>s838</td>\n",
       "      <td>512</td>\n",
       "      <td>819</td>\n",
       "      <td>0.232</td>\n",
       "    </tr>\n",
       "    <tr>\n",
       "      <th>8</th>\n",
       "      <td>s420</td>\n",
       "      <td>252</td>\n",
       "      <td>399</td>\n",
       "      <td>0.234</td>\n",
       "    </tr>\n",
       "    <tr>\n",
       "      <th>9</th>\n",
       "      <td>s208</td>\n",
       "      <td>122</td>\n",
       "      <td>189</td>\n",
       "      <td>0.238</td>\n",
       "    </tr>\n",
       "    <tr>\n",
       "      <th>10</th>\n",
       "      <td>coli</td>\n",
       "      <td>424</td>\n",
       "      <td>577</td>\n",
       "      <td>0.729</td>\n",
       "    </tr>\n",
       "    <tr>\n",
       "      <th>11</th>\n",
       "      <td>wikivote</td>\n",
       "      <td>7115</td>\n",
       "      <td>103689</td>\n",
       "      <td>0.666</td>\n",
       "    </tr>\n",
       "  </tbody>\n",
       "</table>\n",
       "</div>"
      ],
      "text/plain": [
       "               Name      N       L    N_d\n",
       "0       TRN-Yeast-2    688    1079  0.821\n",
       "1             p2p-1  10876   39994  0.552\n",
       "2             p2p-2   8846   31839  0.578\n",
       "3             p2p-3   8717   31525  0.577\n",
       "4      consulting-1     46     879  0.043\n",
       "5   manufacturing-1     77    2228  0.013\n",
       "6             C_ele    297    2345  0.165\n",
       "7              s838    512     819  0.232\n",
       "8              s420    252     399  0.234\n",
       "9              s208    122     189  0.238\n",
       "10             coli    424     577  0.729\n",
       "11         wikivote   7115  103689  0.666"
      ]
     },
     "execution_count": 9,
     "metadata": {},
     "output_type": "execute_result"
    }
   ],
   "source": [
    "data"
   ]
  },
  {
   "cell_type": "code",
   "execution_count": 10,
   "metadata": {},
   "outputs": [],
   "source": [
    "from tqdm import tqdm"
   ]
  },
  {
   "cell_type": "code",
   "execution_count": 11,
   "metadata": {},
   "outputs": [],
   "source": [
    "def test_maximum_matching_time(g):\n",
    "    start_time = time.process_time()\n",
    "    d_nodes = maximum_matching_driver_nodes(g)\n",
    "    end_time = time.process_time()\n",
    "#     print(\"Code time: {}\".format(end_time-start_time))\n",
    "    return end_time-start_time"
   ]
  },
  {
   "cell_type": "code",
   "execution_count": 12,
   "metadata": {},
   "outputs": [
    {
     "name": "stderr",
     "output_type": "stream",
     "text": [
      "12it [00:11,  1.02it/s]\n"
     ]
    }
   ],
   "source": [
    "time_taken = {}\n",
    "for i, (network_name, network_file) in tqdm(enumerate(networks.items())):\n",
    "    g = nx.relabel_nodes(nx.read_edgelist('./graphs/{}'.format(network_file), create_using=nx.DiGraph), int)\n",
    "    time_taken[network_name] = []\n",
    "    for j in range(10):\n",
    "        iter_time = test_maximum_matching_time(g)\n",
    "#         print(iter_time)\n",
    "        time_taken[network_name].append(iter_time)"
   ]
  },
  {
   "cell_type": "code",
   "execution_count": 13,
   "metadata": {},
   "outputs": [],
   "source": [
    "from pprint import pprint"
   ]
  },
  {
   "cell_type": "code",
   "execution_count": 14,
   "metadata": {},
   "outputs": [],
   "source": [
    "for key in time_taken.keys():\n",
    "    time_taken[key] = np.mean(time_taken[key])"
   ]
  },
  {
   "cell_type": "code",
   "execution_count": 15,
   "metadata": {},
   "outputs": [
    {
     "name": "stdout",
     "output_type": "stream",
     "text": [
      "{'C_ele': 0.00741281659999995,\n",
      " 'TRN-Yeast-2': 0.006096586699999929,\n",
      " 'coli': 0.00304422250000016,\n",
      " 'consulting-1': 0.001583798799999947,\n",
      " 'manufacturing-1': 0.0034034335000001194,\n",
      " 'p2p-1': 0.3038637167999999,\n",
      " 'p2p-2': 0.15966809640000007,\n",
      " 'p2p-3': 0.17360073860000025,\n",
      " 's208': 0.0008121191999999056,\n",
      " 's420': 0.0018167826999997416,\n",
      " 's838': 0.003930581999999916,\n",
      " 'wikivote': 0.3873981681999995}\n"
     ]
    }
   ],
   "source": [
    "pprint(time_taken)"
   ]
  },
  {
   "cell_type": "code",
   "execution_count": 16,
   "metadata": {},
   "outputs": [],
   "source": [
    "time_data = pd.Series(time_taken)\n",
    "# time_data.to_csv('time_data.csv')"
   ]
  },
  {
   "cell_type": "markdown",
   "metadata": {},
   "source": [
    "# Results for Calculation of All Driver Nodes"
   ]
  },
  {
   "cell_type": "code",
   "execution_count": 2,
   "metadata": {},
   "outputs": [],
   "source": [
    "from algorithms import maximum_matching_all_driver_nodes\n",
    "def test_maximum_matching_all_fraction(g):\n",
    "    start_time = time.process_time()\n",
    "    d_nodes, all_d_nodes = maximum_matching_all_driver_nodes(g)\n",
    "    end_time = time.process_time()\n",
    "    print(\"Code time for all driver nodes: {}\".format(end_time-start_time))\n",
    "#     return end_time-start_time\n",
    "    return len(all_d_nodes)/len(g.nodes)"
   ]
  },
  {
   "cell_type": "code",
   "execution_count": 14,
   "metadata": {},
   "outputs": [
    {
     "name": "stdout",
     "output_type": "stream",
     "text": [
      "TRN-Yeast-2\n",
      "Code time for all driver nodes: 0.27989459699999486\n",
      "consulting-1\n",
      "Code time for all driver nodes: 0.008593266000005428\n",
      "manufacturing-1\n",
      "Code time for all driver nodes: 0.018327343999999357\n",
      "C_ele\n",
      "Code time for all driver nodes: 0.7395509159999989\n",
      "s838\n",
      "Code time for all driver nodes: 0.016590324999995687\n",
      "s420\n",
      "Code time for all driver nodes: 0.0047924499999965064\n",
      "s208\n",
      "Code time for all driver nodes: 0.0014117500000025984\n",
      "coli\n",
      "Code time for all driver nodes: 0.004157139000000143\n",
      "wikivote\n",
      "Code time for all driver nodes: 0.541524078000009\n",
      "scimet\n",
      "Code time for all driver nodes: 232.81993743499999\n"
     ]
    }
   ],
   "source": [
    "import time\n",
    "fraction_all_driver_nodes = []\n",
    "mod_networks = {\n",
    "            'TRN-Yeast-2': 'experiment_yeast.txt',\n",
    "            'consulting-1':'experiment_consulting-1.txt',\n",
    "            'manufacturing-1':'experiment_manufacturing-1.txt',\n",
    "            'C_ele':'experiment_C.ele_neural.txt',\n",
    "            's838':'experiment_s838_st.txt',\n",
    "            's420':'experiment_s420_st.txt',\n",
    "            's208':'experiment_s208_st.txt',\n",
    "            'coli':'experiment_coli.txt',\n",
    "            'wikivote':'experiment_wikivote.txt',\n",
    "            'scimet':'experiment_scimet.txt'\n",
    "}\n",
    "\n",
    "for i, (network_name, network_file) in enumerate(mod_networks.items()):\n",
    "    print(network_name)\n",
    "    g = nx.relabel_nodes(nx.read_edgelist('./graphs/{}'.format(network_file), create_using=nx.DiGraph), int)\n",
    "    fraction_all_driver_nodes.append(np.round(test_maximum_matching_all_fraction(g), 3))"
   ]
  },
  {
   "cell_type": "code",
   "execution_count": 15,
   "metadata": {},
   "outputs": [
    {
     "data": {
      "text/plain": [
       "[0.949, 0.978, 1.0, 0.805, 0.326, 0.329, 0.336, 0.731, 0.666, 0.728]"
      ]
     },
     "execution_count": 15,
     "metadata": {},
     "output_type": "execute_result"
    }
   ],
   "source": [
    "fraction_all_driver_nodes"
   ]
  },
  {
   "cell_type": "code",
   "execution_count": 16,
   "metadata": {},
   "outputs": [
    {
     "data": {
      "text/plain": [
       "C_ele              0.805\n",
       "TRN-Yeast-2        0.949\n",
       "coli               0.731\n",
       "consulting-1       0.978\n",
       "manufacturing-1    1.000\n",
       "s208               0.336\n",
       "s420               0.329\n",
       "s838               0.326\n",
       "scimet             0.728\n",
       "wikivote           0.666\n",
       "dtype: float64"
      ]
     },
     "execution_count": 16,
     "metadata": {},
     "output_type": "execute_result"
    }
   ],
   "source": [
    "d = {}\n",
    "for i, key in enumerate(mod_networks.keys()):\n",
    "    d[key] = fraction_all_driver_nodes[i]\n",
    "ds = pd.Series(d)\n",
    "ds"
   ]
  },
  {
   "cell_type": "code",
   "execution_count": 17,
   "metadata": {},
   "outputs": [],
   "source": [
    "ds.to_csv('all_driver_nodes_fraction.csv')"
   ]
  },
  {
   "cell_type": "code",
   "execution_count": 34,
   "metadata": {},
   "outputs": [
    {
     "name": "stdout",
     "output_type": "stream",
     "text": [
      "TRN-Yeast-2\n",
      "p2p-1\n",
      "p2p-2\n",
      "p2p-3\n",
      "consulting-1\n",
      "manufacturing-1\n",
      "C_ele\n",
      "s838\n",
      "s420\n",
      "s208\n",
      "coli\n",
      "wikivote\n"
     ]
    }
   ],
   "source": [
    "avg_degree = {}\n",
    "for i, (network_name, network_file) in enumerate(networks.items()):\n",
    "    print(network_name)\n",
    "    g = nx.relabel_nodes(nx.read_edgelist('./graphs/{}'.format(network_file), create_using=nx.DiGraph), int)\n",
    "    avg_degree[network_name] = np.round(len(g.edges)/len(g.nodes), 4)"
   ]
  },
  {
   "cell_type": "code",
   "execution_count": 35,
   "metadata": {},
   "outputs": [
    {
     "data": {
      "text/plain": [
       "{'C_ele': 7.8956,\n",
       " 'TRN-Yeast-2': 1.5683,\n",
       " 'coli': 1.3608,\n",
       " 'consulting-1': 19.1087,\n",
       " 'manufacturing-1': 28.9351,\n",
       " 'p2p-1': 3.6773,\n",
       " 'p2p-2': 3.5993,\n",
       " 'p2p-3': 3.6165,\n",
       " 's208': 1.5492,\n",
       " 's420': 1.5833,\n",
       " 's838': 1.5996,\n",
       " 'wikivote': 14.5733}"
      ]
     },
     "execution_count": 35,
     "metadata": {},
     "output_type": "execute_result"
    }
   ],
   "source": [
    "avg_degree"
   ]
  }
 ],
 "metadata": {
  "kernelspec": {
   "display_name": "Python 3",
   "language": "python",
   "name": "python3"
  },
  "language_info": {
   "codemirror_mode": {
    "name": "ipython",
    "version": 3
   },
   "file_extension": ".py",
   "mimetype": "text/x-python",
   "name": "python",
   "nbconvert_exporter": "python",
   "pygments_lexer": "ipython3",
   "version": "3.6.6"
  }
 },
 "nbformat": 4,
 "nbformat_minor": 2
}
